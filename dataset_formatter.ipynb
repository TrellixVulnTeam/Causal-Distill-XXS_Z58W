{
 "cells": [
  {
   "cell_type": "markdown",
   "metadata": {},
   "source": [
    "### Turn DynaSent dataset to differnet formats.\n",
    "\n",
    "SST-2 dataset seems to be too easy. We are switching to harder dataset requiring harder compositional skills to demonstrate DIITO."
   ]
  },
  {
   "cell_type": "code",
   "execution_count": 26,
   "metadata": {},
   "outputs": [],
   "source": [
    "from datasets import load_dataset, Dataset, DatasetDict\n",
    "import pandas as pd"
   ]
  },
  {
   "cell_type": "code",
   "execution_count": null,
   "metadata": {},
   "outputs": [],
   "source": [
    "r1_dataset = load_dataset(\n",
    "    \"dynabench/dynasent\", \"dynabench.dynasent.r1.all\",\n",
    "    cache_dir=\"../huggingface_cache\",\n",
    ")\n",
    "r2_dataset = load_dataset(\n",
    "    \"dynabench/dynasent\", \"dynabench.dynasent.r2.all\",\n",
    "    cache_dir=\"../huggingface_cache\",\n",
    ")"
   ]
  },
  {
   "cell_type": "markdown",
   "metadata": {},
   "source": [
    ".json format"
   ]
  },
  {
   "cell_type": "code",
   "execution_count": 16,
   "metadata": {},
   "outputs": [],
   "source": [
    "r1_train = pd.DataFrame(r1_dataset[\"train\"])[['sentence','gold_label']].drop_duplicates().rename(\n",
    "    columns={'sentence': 'sentence', 'gold_label': 'label'}\n",
    ")\n",
    "r2_train = pd.DataFrame(r2_dataset[\"train\"])[['sentence','gold_label']].drop_duplicates().rename(\n",
    "    columns={'sentence': 'sentence', 'gold_label': 'label'}\n",
    ")\n",
    "r1_validation = pd.DataFrame(r1_dataset[\"validation\"])[['sentence','gold_label']].drop_duplicates().rename(\n",
    "    columns={'sentence': 'sentence', 'gold_label': 'label'}\n",
    ")\n",
    "r2_validation = pd.DataFrame(r2_dataset[\"validation\"])[['sentence','gold_label']].drop_duplicates().rename(\n",
    "    columns={'sentence': 'sentence', 'gold_label': 'label'}\n",
    ")\n",
    "r1_test = pd.DataFrame(r1_dataset[\"test\"])[['sentence','gold_label']].drop_duplicates().rename(\n",
    "    columns={'sentence': 'sentence', 'gold_label': 'label'}\n",
    ")\n",
    "r2_test = pd.DataFrame(r2_dataset[\"test\"])[['sentence','gold_label']].drop_duplicates().rename(\n",
    "    columns={'sentence': 'sentence', 'gold_label': 'label'}\n",
    ")"
   ]
  },
  {
   "cell_type": "code",
   "execution_count": 18,
   "metadata": {},
   "outputs": [],
   "source": [
    "enc = {\n",
    "    \"positive\" : 1, # positive\n",
    "    \"neutral\" : 2,  # neutral\n",
    "    \"negative\" : 0} # negative\n",
    "dynasent_train = pd.concat((r1_train, r2_train)).replace({\"label\": enc}).drop_duplicates()\n",
    "dynasent_validation = pd.concat((r1_validation, r2_validation)).replace({\"label\": enc}).drop_duplicates()\n",
    "dynasent_test = pd.concat((r1_test, r2_test)).replace({\"label\": enc}).drop_duplicates()"
   ]
  },
  {
   "cell_type": "code",
   "execution_count": 22,
   "metadata": {},
   "outputs": [
    {
     "data": {
      "text/html": [
       "<div>\n",
       "<style scoped>\n",
       "    .dataframe tbody tr th:only-of-type {\n",
       "        vertical-align: middle;\n",
       "    }\n",
       "\n",
       "    .dataframe tbody tr th {\n",
       "        vertical-align: top;\n",
       "    }\n",
       "\n",
       "    .dataframe thead th {\n",
       "        text-align: right;\n",
       "    }\n",
       "</style>\n",
       "<table border=\"1\" class=\"dataframe\">\n",
       "  <thead>\n",
       "    <tr style=\"text-align: right;\">\n",
       "      <th></th>\n",
       "      <th>sentence</th>\n",
       "      <th>label</th>\n",
       "    </tr>\n",
       "  </thead>\n",
       "  <tbody>\n",
       "    <tr>\n",
       "      <th>0</th>\n",
       "      <td>Roto-Rooter is always good when you need someo...</td>\n",
       "      <td>1</td>\n",
       "    </tr>\n",
       "    <tr>\n",
       "      <th>1</th>\n",
       "      <td>It's so worth the price of cox service over he...</td>\n",
       "      <td>1</td>\n",
       "    </tr>\n",
       "    <tr>\n",
       "      <th>2</th>\n",
       "      <td>I placed my order of \"sticky ribs\" as an appet...</td>\n",
       "      <td>2</td>\n",
       "    </tr>\n",
       "    <tr>\n",
       "      <th>3</th>\n",
       "      <td>There is mandatory valet parking, so make sure...</td>\n",
       "      <td>2</td>\n",
       "    </tr>\n",
       "    <tr>\n",
       "      <th>4</th>\n",
       "      <td>My wife and I couldn't finish it.</td>\n",
       "      <td>2</td>\n",
       "    </tr>\n",
       "    <tr>\n",
       "      <th>...</th>\n",
       "      <td>...</td>\n",
       "      <td>...</td>\n",
       "    </tr>\n",
       "    <tr>\n",
       "      <th>13060</th>\n",
       "      <td>This guy was a huge jerk.</td>\n",
       "      <td>0</td>\n",
       "    </tr>\n",
       "    <tr>\n",
       "      <th>13061</th>\n",
       "      <td>Never have proper dispensers.</td>\n",
       "      <td>0</td>\n",
       "    </tr>\n",
       "    <tr>\n",
       "      <th>13062</th>\n",
       "      <td>The Minister Richard Rosenberg and his wife me...</td>\n",
       "      <td>0</td>\n",
       "    </tr>\n",
       "    <tr>\n",
       "      <th>13063</th>\n",
       "      <td>It was a best service.</td>\n",
       "      <td>1</td>\n",
       "    </tr>\n",
       "    <tr>\n",
       "      <th>13064</th>\n",
       "      <td>The relished are so good.</td>\n",
       "      <td>1</td>\n",
       "    </tr>\n",
       "  </tbody>\n",
       "</table>\n",
       "<p>93547 rows × 2 columns</p>\n",
       "</div>"
      ],
      "text/plain": [
       "                                                sentence  label\n",
       "0      Roto-Rooter is always good when you need someo...      1\n",
       "1      It's so worth the price of cox service over he...      1\n",
       "2      I placed my order of \"sticky ribs\" as an appet...      2\n",
       "3      There is mandatory valet parking, so make sure...      2\n",
       "4                      My wife and I couldn't finish it.      2\n",
       "...                                                  ...    ...\n",
       "13060                          This guy was a huge jerk.      0\n",
       "13061                      Never have proper dispensers.      0\n",
       "13062  The Minister Richard Rosenberg and his wife me...      0\n",
       "13063                             It was a best service.      1\n",
       "13064                          The relished are so good.      1\n",
       "\n",
       "[93547 rows x 2 columns]"
      ]
     },
     "execution_count": 22,
     "metadata": {},
     "output_type": "execute_result"
    }
   ],
   "source": [
    "dynasent_train"
   ]
  },
  {
   "cell_type": "code",
   "execution_count": 24,
   "metadata": {},
   "outputs": [],
   "source": [
    "dynasent_train.to_csv('./data/data_raw/DynaSent/train.tsv', sep=\"\\t\", index=False)\n",
    "dynasent_validation.to_csv('./data/data_raw/DynaSent/dev.tsv', sep=\"\\t\", index=False)\n",
    "dynasent_test.to_csv('./data/data_raw/DynaSent/test.tsv', sep=\"\\t\", index=False)"
   ]
  },
  {
   "cell_type": "markdown",
   "metadata": {},
   "source": [
    "Huggingface Datasets format"
   ]
  },
  {
   "cell_type": "code",
   "execution_count": 25,
   "metadata": {},
   "outputs": [],
   "source": [
    "dynasent_train.index.names = [\"idx\"]\n",
    "dynasent_validation.index.names = [\"idx\"]\n",
    "dynasent_test.index.names = [\"idx\"]"
   ]
  },
  {
   "cell_type": "code",
   "execution_count": 27,
   "metadata": {},
   "outputs": [],
   "source": [
    "dynasent_train_hf = Dataset.from_pandas(dynasent_train)\n",
    "dynasent_validation_hf = Dataset.from_pandas(dynasent_validation)\n",
    "dynasent_test_hf = Dataset.from_pandas(dynasent_test)"
   ]
  },
  {
   "cell_type": "code",
   "execution_count": 30,
   "metadata": {},
   "outputs": [],
   "source": [
    "hf_dataset = DatasetDict()\n",
    "hf_dataset['train'] = dynasent_train_hf\n",
    "hf_dataset['validation'] = dynasent_validation_hf\n",
    "hf_dataset['test'] = dynasent_test_hf"
   ]
  },
  {
   "cell_type": "code",
   "execution_count": 31,
   "metadata": {},
   "outputs": [],
   "source": [
    "hf_dataset.save_to_disk(\"./data/data_raw/DynaSent-HF/\")"
   ]
  }
 ],
 "metadata": {
  "kernelspec": {
   "display_name": "Python 3",
   "language": "python",
   "name": "python3"
  },
  "language_info": {
   "codemirror_mode": {
    "name": "ipython",
    "version": 3
   },
   "file_extension": ".py",
   "mimetype": "text/x-python",
   "name": "python",
   "nbconvert_exporter": "python",
   "pygments_lexer": "ipython3",
   "version": "3.7.6"
  }
 },
 "nbformat": 4,
 "nbformat_minor": 4
}
